{
 "cells": [
  {
   "cell_type": "code",
   "execution_count": 2,
   "id": "34330241-2b39-403c-8223-892cb844e697",
   "metadata": {},
   "outputs": [],
   "source": [
    "import data_poader"
   ]
  },
  {
   "cell_type": "code",
   "execution_count": 4,
   "id": "e9336cb8-7f0d-43fe-bbdd-5b4de63a0ca3",
   "metadata": {},
   "outputs": [
    {
     "ename": "TypeError",
     "evalue": "create_dataloaders() missing 4 required positional arguments: 'train_dir', 'test_dir', 'transform', and 'batch_size'",
     "output_type": "error",
     "traceback": [
      "\u001b[0;31m---------------------------------------------------------------------------\u001b[0m",
      "\u001b[0;31mTypeError\u001b[0m                                 Traceback (most recent call last)",
      "Cell \u001b[0;32mIn[4], line 1\u001b[0m\n\u001b[0;32m----> 1\u001b[0m \u001b[43mdata_poader\u001b[49m\u001b[38;5;241;43m.\u001b[39;49m\u001b[43mcreate_dataloaders\u001b[49m\u001b[43m(\u001b[49m\u001b[43m)\u001b[49m\n",
      "\u001b[0;31mTypeError\u001b[0m: create_dataloaders() missing 4 required positional arguments: 'train_dir', 'test_dir', 'transform', and 'batch_size'"
     ]
    }
   ],
   "source": [
    "data_poader.create_dataloaders()"
   ]
  },
  {
   "cell_type": "code",
   "execution_count": null,
   "id": "92b85fd9-482d-40d1-9a87-0cbb432bdabc",
   "metadata": {},
   "outputs": [],
   "source": []
  }
 ],
 "metadata": {
  "kernelspec": {
   "display_name": "Python 3 (ipykernel)",
   "language": "python",
   "name": "python3"
  },
  "language_info": {
   "codemirror_mode": {
    "name": "ipython",
    "version": 3
   },
   "file_extension": ".py",
   "mimetype": "text/x-python",
   "name": "python",
   "nbconvert_exporter": "python",
   "pygments_lexer": "ipython3",
   "version": "3.10.12"
  }
 },
 "nbformat": 4,
 "nbformat_minor": 5
}
