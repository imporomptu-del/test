{
 "cells": [
  {
   "cell_type": "code",
   "execution_count": 4,
   "id": "ec0f18d1-69fa-49ea-9fda-e4ec5fc8f076",
   "metadata": {},
   "outputs": [],
   "source": [
    "import cv2\n",
    "import os\n",
    "\n",
    "\n",
    "image_path = \"/mnt/d/whales/happy-whale-and-dolphin/test_images/000110707af0ba.jpg\"\n",
    "label_path = \"/mnt/d/whales/processed/labels/000110707af0ba.txt\"\n",
    "class_names = [\"ship\", \"buoy\", \"fishnet buoy\", \"lighthouse\", \"wind farm\", \"whale\"]\n",
    "\n",
    "img = cv2.imread(image_path)\n",
    "if img is None:\n",
    "    raise FileNotFoundError(f\"Image not found: {image_path}\")\n",
    "h, w, _ = img.shape\n",
    "\n",
    "if not os.path.exists(label_path):\n",
    "    raise FileNotFoundError(f\"Label file not found: {label_path}\")\n",
    "\n",
    "with open(label_path, \"r\") as f:\n",
    "    for line in f.readlines():\n",
    "        parts = line.strip().split()\n",
    "        if len(parts) != 5:\n",
    "            print(\"⚠️ Bad label format:\", line)\n",
    "            continue\n",
    "        cls, x, y, bw, bh = parts\n",
    "        cls = int(cls)\n",
    "        x, y, bw, bh = map(float, (x, y, bw, bh))\n",
    "\n",
    "        # Convert YOLO normalized → pixel coordinates\n",
    "        x1 = int((x - bw/2) * w)\n",
    "        y1 = int((y - bh/2) * h)\n",
    "        x2 = int((x + bw/2) * w)\n",
    "        y2 = int((y + bh/2) * h)\n",
    "\n",
    "        cv2.rectangle(img, (x1, y1), (x2, y2), (0, 255, 0), 2)\n",
    "        cv2.putText(img, class_names[cls], (x1, max(0, y1-5)),\n",
    "                    cv2.FONT_HERSHEY_SIMPLEX, 0.6, (0, 255, 0), 2)\n",
    "\n",
    "cv2.imshow(\"YOLO Labels\", img)\n",
    "cv2.waitKey(0)\n",
    "cv2.destroyAllWindows()\n",
    "\n",
    "# Optional: save to file instead\n",
    "# cv2.imwrite(\"debug_output.jpg\", img)\n"
   ]
  },
  {
   "cell_type": "code",
   "execution_count": null,
   "id": "46ebd725-8ad0-4f82-a2f7-4e3a4a056d70",
   "metadata": {},
   "outputs": [],
   "source": []
  }
 ],
 "metadata": {
  "kernelspec": {
   "display_name": "Python 3 (ipykernel)",
   "language": "python",
   "name": "python3"
  },
  "language_info": {
   "codemirror_mode": {
    "name": "ipython",
    "version": 3
   },
   "file_extension": ".py",
   "mimetype": "text/x-python",
   "name": "python",
   "nbconvert_exporter": "python",
   "pygments_lexer": "ipython3",
   "version": "3.10.12"
  }
 },
 "nbformat": 4,
 "nbformat_minor": 5
}
