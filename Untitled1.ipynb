{
 "cells": [
  {
   "cell_type": "code",
   "execution_count": 6,
   "id": "015c9162-21fc-4e16-b6b2-b2d94f7a343f",
   "metadata": {},
   "outputs": [
    {
     "name": "stdout",
     "output_type": "stream",
     "text": [
      "/mnt/d/seaqr/images/test/whales/0/000110707af0ba.jpg\n",
      "\n",
      "000110707af0ba.jpg\n",
      "\n"
     ]
    }
   ],
   "source": [
    "import os\n",
    "import shutil\n",
    "\n",
    "# --- CONFIG ---\n",
    "val_txt = \"data/val.txt\"\n",
    "images_dir = \"/mnt/d/seaqr/images/train/whales/2\"   # base dir of images\n",
    "labels_dir = \"/mnt/d/seaqr/labels/train/whales/2\"   # base dir of labels\n",
    "num_files_to_move = 10000\n",
    "\n",
    "os.makedirs(images_dir, exist_ok=True)\n",
    "\n",
    "\n",
    "with open(val_txt, 'r') as file_object:\n",
    "    whales = [x for x in file_object.readlines() if \"whales\" in x]\n",
    "\n",
    "print(whales[0])\n",
    "print(os.path.basename(whales[0]))\n",
    "    \n",
    "# try:\n",
    "#     all_files = [f for f in os.listdir(images_dir) if os.path.isfile(os.path.join(images_dir, f))]\n",
    "#     print(f\"Found {len(all_files)} in {images_dir}.\")\n",
    "#     print(all_files[0])\n",
    "# except FileNotFoundError:\n",
    "#     print(f\"Error: Source directory not found at '{labels_dir}'\")\n",
    "#     exit()\n",
    "\n",
    "\n",
    "# moved_count = 0\n",
    "# for file_name in sorted(all_files): #[:num_files_to_move]:\n",
    "#     file_name = file_name.split('.')[0] + \".jpg\"\n",
    "#     source_path = os.path.join(source_dir, file_name)\n",
    "#     destination_path = os.path.join(images_dir, file_name)\n",
    "#     try:\n",
    "#         shutil.copy(source_path, destination_path)\n",
    "#         moved_count += 1\n",
    "#     except Exception as e:\n",
    "#         print(f\"Could not move {file_name}. Error: {e}\")\n",
    "\n",
    "# print(f\"Successfully moved {moved_count} files to '{images_dir}'\")"
   ]
  },
  {
   "cell_type": "code",
   "execution_count": null,
   "id": "8f85bfb5-db1f-4dbb-98f5-73b61ead977c",
   "metadata": {},
   "outputs": [],
   "source": []
  }
 ],
 "metadata": {
  "kernelspec": {
   "display_name": "Python 3 (ipykernel)",
   "language": "python",
   "name": "python3"
  },
  "language_info": {
   "codemirror_mode": {
    "name": "ipython",
    "version": 3
   },
   "file_extension": ".py",
   "mimetype": "text/x-python",
   "name": "python",
   "nbconvert_exporter": "python",
   "pygments_lexer": "ipython3",
   "version": "3.10.12"
  }
 },
 "nbformat": 4,
 "nbformat_minor": 5
}
