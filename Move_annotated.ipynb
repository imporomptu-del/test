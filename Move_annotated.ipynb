{
 "cells": [
  {
   "cell_type": "markdown",
   "id": "103dc9ec-0c9e-4e21-a68a-7c735db93832",
   "metadata": {},
   "source": [
    "## Based on labels file_name move original whale images to training folders corresponding to labels.\n",
    " because I used \"annotated\" images with annotation box visible"
   ]
  },
  {
   "cell_type": "code",
   "execution_count": 5,
   "id": "ff11b817-6aab-465c-9b23-9ef1933ad138",
   "metadata": {},
   "outputs": [
    {
     "name": "stdout",
     "output_type": "stream",
     "text": [
      "Found 10000 in /mnt/d/seaqr/labels/train/whales/2.\n",
      "Successfully moved 10000 files to '/mnt/d/seaqr/images/train/whales/2'\n"
     ]
    }
   ],
   "source": [
    "import os\n",
    "import shutil\n",
    "\n",
    "# --- CONFIG ---\n",
    "source_dir = \"/mnt/d/whales/happy-whale-and-dolphin/train_images/\" # dir with original images\n",
    "images_dir = \"/mnt/d/seaqr/images/train/whales/2\"   # base dir of images\n",
    "labels_dir = \"/mnt/d/seaqr/labels/train/whales/2\"   # base dir of labels\n",
    "num_files_to_move = 10000\n",
    "\n",
    "os.makedirs(images_dir, exist_ok=True)\n",
    "\n",
    "try:\n",
    "    all_files = [f for f in os.listdir(labels_dir) if os.path.isfile(os.path.join(labels_dir, f))]\n",
    "    print(f\"Found {len(all_files)} in {labels_dir}.\")\n",
    "except FileNotFoundError:\n",
    "    print(f\"Error: Source directory not found at '{labels_dir}'\")\n",
    "    exit()\n",
    "\n",
    "\n",
    "moved_count = 0\n",
    "for file_name in sorted(all_files): #[:num_files_to_move]:\n",
    "    file_name = file_name.split('.')[0] + \".jpg\"\n",
    "    source_path = os.path.join(source_dir, file_name)\n",
    "    destination_path = os.path.join(images_dir, file_name)\n",
    "    try:\n",
    "        shutil.copy(source_path, destination_path)\n",
    "        moved_count += 1\n",
    "    except Exception as e:\n",
    "        print(f\"Could not move {file_name}. Error: {e}\")\n",
    "\n",
    "print(f\"Successfully moved {moved_count} files to '{images_dir}'\")"
   ]
  },
  {
   "cell_type": "code",
   "execution_count": null,
   "id": "38820d01-62a4-4113-a677-ade87c90b06e",
   "metadata": {},
   "outputs": [],
   "source": []
  }
 ],
 "metadata": {
  "kernelspec": {
   "display_name": "Python 3 (ipykernel)",
   "language": "python",
   "name": "python3"
  },
  "language_info": {
   "codemirror_mode": {
    "name": "ipython",
    "version": 3
   },
   "file_extension": ".py",
   "mimetype": "text/x-python",
   "name": "python",
   "nbconvert_exporter": "python",
   "pygments_lexer": "ipython3",
   "version": "3.10.12"
  }
 },
 "nbformat": 4,
 "nbformat_minor": 5
}
