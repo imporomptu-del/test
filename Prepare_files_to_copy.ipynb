{
 "cells": [
  {
   "cell_type": "code",
   "execution_count": 14,
   "id": "7d47678f-629f-4802-b2f0-80dc1c6a83ca",
   "metadata": {},
   "outputs": [
    {
     "name": "stdout",
     "output_type": "stream",
     "text": [
      "446 files written\n"
     ]
    }
   ],
   "source": [
    "import os\n",
    "\n",
    "train_txt = \"data/val.txt\"\n",
    "with open(train_txt, \"r\") as f:\n",
    "    paths = f.readlines()\n",
    "\n",
    "res = []\n",
    "for path in paths:\n",
    "    # /mnt/d/seaqr/images/train/kolomverse/0/0000002002.jpg \n",
    "    path = path.strip().split('/')\n",
    "    # gcs_path = \"/gcs/seaqr-detection-data-roman/\" + '/'.join(path[3:])\n",
    "    path = '/'.join([path[-2], path[-1]])\n",
    "    res.append(path)\n",
    "    # res.append(gcs_path)\n",
    "\n",
    "\n",
    "with open(\"val_files_copy.txt\", \"w\") as f:\n",
    "    f.write(\"\\n\".join(res))\n",
    "\n",
    "print(f\"{len(res)} files written\")\n",
    "    "
   ]
  },
  {
   "cell_type": "code",
   "execution_count": null,
   "id": "4f6f5ce6-63c1-49ce-b36f-8c9b064b5443",
   "metadata": {},
   "outputs": [],
   "source": []
  }
 ],
 "metadata": {
  "kernelspec": {
   "display_name": "Python 3 (ipykernel)",
   "language": "python",
   "name": "python3"
  },
  "language_info": {
   "codemirror_mode": {
    "name": "ipython",
    "version": 3
   },
   "file_extension": ".py",
   "mimetype": "text/x-python",
   "name": "python",
   "nbconvert_exporter": "python",
   "pygments_lexer": "ipython3",
   "version": "3.10.12"
  }
 },
 "nbformat": 4,
 "nbformat_minor": 5
}
