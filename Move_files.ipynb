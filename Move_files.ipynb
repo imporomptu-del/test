{
 "cells": [
  {
   "cell_type": "markdown",
   "id": "af64e2bc-6614-49a2-b72c-4b2ba4bd17cd",
   "metadata": {},
   "source": [
    "## To split folder into subfolders"
   ]
  },
  {
   "cell_type": "code",
   "execution_count": 3,
   "id": "68f8651d-6965-4653-8dde-0b69992e0a17",
   "metadata": {},
   "outputs": [
    {
     "name": "stdout",
     "output_type": "stream",
     "text": [
      "Successfully moved 10000 files to '/mnt/d/whales/processed/1/annotated'\n"
     ]
    }
   ],
   "source": [
    "import os\n",
    "import shutil\n",
    "\n",
    "source_folder = \"/mnt/d/whales/processed/0/annotated\"\n",
    "destination_folder = \"/mnt/d/whales/processed/1/annotated\"\n",
    "num_files_to_move = 10000\n",
    "\n",
    "\n",
    "os.makedirs(destination_folder, exist_ok=True)\n",
    "\n",
    "try:\n",
    "    all_files = [f for f in os.listdir(source_folder) if os.path.isfile(os.path.join(source_folder, f))]\n",
    "except FileNotFoundError:\n",
    "    print(f\"Error: Source directory not found at '{source_folder}'\")\n",
    "    exit()\n",
    "\n",
    "moved_count = 0\n",
    "for file_name in sorted(all_files)[num_files_to_move:]:\n",
    "    source_path = os.path.join(source_folder, file_name)\n",
    "    destination_path = os.path.join(destination_folder, file_name)\n",
    "    try:\n",
    "        shutil.move(source_path, destination_path)\n",
    "        moved_count += 1\n",
    "    except Exception as e:\n",
    "        print(f\"Could not move {file_name}. Error: {e}\")\n",
    "\n",
    "print(f\"Successfully moved {moved_count} files to '{destination_folder}'\")"
   ]
  },
  {
   "cell_type": "code",
   "execution_count": null,
   "id": "542359a4-e270-4022-bec1-3752b1786763",
   "metadata": {},
   "outputs": [],
   "source": []
  }
 ],
 "metadata": {
  "kernelspec": {
   "display_name": "Python 3 (ipykernel)",
   "language": "python",
   "name": "python3"
  },
  "language_info": {
   "codemirror_mode": {
    "name": "ipython",
    "version": 3
   },
   "file_extension": ".py",
   "mimetype": "text/x-python",
   "name": "python",
   "nbconvert_exporter": "python",
   "pygments_lexer": "ipython3",
   "version": "3.10.12"
  }
 },
 "nbformat": 4,
 "nbformat_minor": 5
}
